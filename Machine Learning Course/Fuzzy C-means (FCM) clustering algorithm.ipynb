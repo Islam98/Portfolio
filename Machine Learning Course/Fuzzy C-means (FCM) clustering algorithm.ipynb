{
 "cells": [
  {
   "cell_type": "markdown",
   "metadata": {},
   "source": [
    "## Imports"
   ]
  },
  {
   "cell_type": "code",
   "execution_count": 1,
   "metadata": {},
   "outputs": [],
   "source": [
    "import numpy as np\n",
    "import matplotlib.pyplot as plt\n",
    "%matplotlib inline\n",
    "from numpy import linalg\n",
    "import math"
   ]
  },
  {
   "cell_type": "markdown",
   "metadata": {},
   "source": [
    "## Read Data"
   ]
  },
  {
   "cell_type": "code",
   "execution_count": 2,
   "metadata": {},
   "outputs": [
    {
     "data": {
      "text/plain": [
       "(150, 4)"
      ]
     },
     "execution_count": 2,
     "metadata": {},
     "output_type": "execute_result"
    }
   ],
   "source": [
    "data = np.loadtxt(open(\"iris.csv\", \"rb\"), delimiter=\",\", skiprows=1, usecols=range(0,4))\n",
    "data.shape"
   ]
  },
  {
   "cell_type": "markdown",
   "metadata": {},
   "source": [
    "# Cluster Data"
   ]
  },
  {
   "cell_type": "code",
   "execution_count": 3,
   "metadata": {},
   "outputs": [
    {
     "data": {
      "text/plain": [
       "array([5.8, 2.7, 5.1, 1.9])"
      ]
     },
     "execution_count": 3,
     "metadata": {},
     "output_type": "execute_result"
    }
   ],
   "source": [
    "miu_1 = data[np.random.randint(0,len(data))]\n",
    "miu_1"
   ]
  },
  {
   "cell_type": "code",
   "execution_count": 4,
   "metadata": {},
   "outputs": [
    {
     "data": {
      "text/plain": [
       "array([5.8, 2.7, 5.1, 1.9])"
      ]
     },
     "execution_count": 4,
     "metadata": {},
     "output_type": "execute_result"
    }
   ],
   "source": [
    "miu_2 = data[np.random.randint(0,len(data))]\n",
    "miu_2"
   ]
  },
  {
   "cell_type": "code",
   "execution_count": 5,
   "metadata": {},
   "outputs": [
    {
     "data": {
      "text/plain": [
       "array([6.8, 3. , 5.5, 2.1])"
      ]
     },
     "execution_count": 5,
     "metadata": {},
     "output_type": "execute_result"
    }
   ],
   "source": [
    "miu_3 = data[np.random.randint(0,len(data))]\n",
    "miu_3"
   ]
  },
  {
   "cell_type": "code",
   "execution_count": 6,
   "metadata": {},
   "outputs": [
    {
     "data": {
      "text/plain": [
       "array([[5.8, 2.7, 5.1, 1.9],\n",
       "       [5.8, 2.7, 5.1, 1.9],\n",
       "       [6.8, 3. , 5.5, 2.1]])"
      ]
     },
     "execution_count": 6,
     "metadata": {},
     "output_type": "execute_result"
    }
   ],
   "source": [
    "miu_s = np.concatenate(([miu_1],[miu_2],[miu_3]), axis=0)\n",
    "miu_s"
   ]
  },
  {
   "cell_type": "code",
   "execution_count": 7,
   "metadata": {},
   "outputs": [
    {
     "data": {
      "text/plain": [
       "(150, 3)"
      ]
     },
     "execution_count": 7,
     "metadata": {},
     "output_type": "execute_result"
    }
   ],
   "source": [
    "r_n_k = np.zeros((len(data),3))  #three zeroes places for each miu in the current n\n",
    "r_n_k.shape"
   ]
  },
  {
   "cell_type": "code",
   "execution_count": 8,
   "metadata": {},
   "outputs": [
    {
     "data": {
      "text/plain": [
       "array([[0., 0., 0.],\n",
       "       [0., 0., 0.],\n",
       "       [0., 0., 0.],\n",
       "       [0., 0., 0.],\n",
       "       [0., 0., 0.],\n",
       "       [0., 0., 0.],\n",
       "       [0., 0., 0.],\n",
       "       [0., 0., 0.]])"
      ]
     },
     "execution_count": 8,
     "metadata": {},
     "output_type": "execute_result"
    }
   ],
   "source": [
    "output = np.zeros((8,3))\n",
    "output"
   ]
  },
  {
   "cell_type": "code",
   "execution_count": 9,
   "metadata": {},
   "outputs": [
    {
     "name": "stderr",
     "output_type": "stream",
     "text": [
      "<ipython-input-9-43268b2272ee>:26: RuntimeWarning: divide by zero encountered in double_scalars\n",
      "  division_result = norm_difference_1/norm_difference\n",
      "<ipython-input-9-43268b2272ee>:26: RuntimeWarning: invalid value encountered in double_scalars\n",
      "  division_result = norm_difference_1/norm_difference\n"
     ]
    },
    {
     "data": {
      "text/plain": [
       "array([[26., 28., 96.],\n",
       "       [60., 50., 40.],\n",
       "       [50., 59., 41.],\n",
       "       [41., 59., 50.],\n",
       "       [50., 58., 42.],\n",
       "       [42., 50., 58.],\n",
       "       [43., 57., 50.],\n",
       "       [50., 57., 43.]])"
      ]
     },
     "execution_count": 9,
     "metadata": {},
     "output_type": "execute_result"
    }
   ],
   "source": [
    "q = 1.5\n",
    "#for q in frange(1.5, 5.5, 0.5):\n",
    "for i in range(8):\n",
    "    miu_1 = data[np.random.randint(0,len(data))]\n",
    "    miu_2 = data[np.random.randint(0,len(data))]\n",
    "    miu_3 = data[np.random.randint(0,len(data))]\n",
    "    miu_s = np.concatenate(([miu_1],[miu_2],[miu_3]), axis=0) #initialize three random Mius\n",
    "    \n",
    "    halt_counter = 0 #initialize halt counter  (@1000)\n",
    "    convergence = False #initialize halt condition (if True)\n",
    "    r_n_k = np.zeros((len(data),3))#initialize membership matrix of data for all clusters\n",
    "    \n",
    "    #compute membership and update Mius\n",
    "    while(halt_counter < 1000 and (not convergence)):\n",
    "        #compute r_n_k\n",
    "        for data_index, data_point in enumerate(data):\n",
    "            for k in range(3):\n",
    "                difference_1 = data_point - miu_s[k]\n",
    "                norm_difference_1 = linalg.norm(difference_1)\n",
    "                norm_difference_1 *= norm_difference_1 #squaring the numerator\n",
    "                denominator = 0\n",
    "                for m in range(3):\n",
    "                    difference = data_point - miu_s[m] #x_n - miu_m\n",
    "                    norm_difference = linalg.norm(difference) #||result||\n",
    "                    norm_difference *= norm_difference #(norm)^2\n",
    "                    division_result = norm_difference_1/norm_difference\n",
    "                    denominator += pow(division_result,(1.0/(q-1.0)))\n",
    "                r_n_k[data_index][k] = 1/denominator\n",
    "                if(math.isnan(r_n_k[data_index][k])):\n",
    "                    r_n_k[data_index][k] = 1\n",
    "\n",
    "\n",
    "        #update miu_k: for each r calculated for a miu in each data point (score of each miu'k' in a data point 'n')\n",
    "        convergence = True #if the old value is the same as the new value then it will remain the same (True)\n",
    "        for k in range(3):\n",
    "            numerator = 0\n",
    "            denominator = 0\n",
    "            for data_index,data_point in enumerate(data):\n",
    "                r_n_k_q = pow(r_n_k[data_index][k],q)\n",
    "                numerator += (r_n_k_q * data_point)\n",
    "                denominator += r_n_k_q\n",
    "            miu_k = numerator/denominator\n",
    "            if (not np.array_equal(miu_s[k],miu_k)):\n",
    "                miu_s[k] = miu_k\n",
    "                convergence = False\n",
    "        halt_counter += 1\n",
    "    q += 0.5\n",
    "    \n",
    "    \n",
    "    #compute ocurrences of each miu for data points:\n",
    "    for index,r_n in enumerate(r_n_k):\n",
    "        #index_max_cluster = np.argmax(r_n)\n",
    "        #if a flower clustered in more than one cluster (same max value in 2 or 3 clusters)\n",
    "        indices_max_cluster = np.argwhere(r_n == np.amax(r_n)) #return indices of the max value\n",
    "        indices_max_cluster = indices_max_cluster.reshape(1,-1)\n",
    "        indices_max_cluster = indices_max_cluster[0]\n",
    "        if(len(indices_max_cluster) <= 1):\n",
    "            output[i][indices_max_cluster] += 1\n",
    "        else: #if one flower data is clustered (has same max value) in more than one cluster, then add it to the cluster of more flowers\n",
    "            index_max_occ = indices_max_cluster[0]\n",
    "            for tempindex in indices_max_cluster:\n",
    "                if(output[i][index_max_occ] < output[i][tempindex]):\n",
    "                    index_max_occ = tempindex\n",
    "            output[i][index_max_occ] += 1\n",
    "            \n",
    "        #if(i == 1):\n",
    "           # print(output)\n",
    "    #print(r_n_k[len(r_n_k)-2])\n",
    "output"
   ]
  },
  {
   "cell_type": "markdown",
   "metadata": {},
   "source": [
    "# Plot Figure"
   ]
  },
  {
   "cell_type": "code",
   "execution_count": 10,
   "metadata": {
    "scrolled": true
   },
   "outputs": [
    {
     "data": {
      "image/png": "[encoded data removed]",
      "text/plain": [
       "<Figure size 288x768 with 1 Axes>"
      ]
     },
     "metadata": {
      "needs_background": "light"
     },
     "output_type": "display_data"
    }
   ],
   "source": [
    "plt.rc('figure', figsize=[20,10])\n",
    "plt.matshow(output,cmap='Blues')\n",
    "for i in range(0,output.shape[0]):\n",
    "    for j in range(0,output.shape[1]):\n",
    "        plt.annotate(output[i,j],(j,i))\n",
    "plt.savefig('Counts.jpg', bbox_inches=\"tight\")"
   ]
  },
  {
   "cell_type": "markdown",
   "metadata": {},
   "source": [
    "## Thank You :D"
   ]
  },
  {
   "cell_type": "code",
   "execution_count": null,
   "metadata": {},
   "outputs": [],
   "source": []
  }
 ],
 "metadata": {
  "kernelspec": {
   "display_name": "Python 3",
   "language": "python",
   "name": "python3"
  },
  "language_info": {
   "codemirror_mode": {
    "name": "ipython",
    "version": 3
   },
   "file_extension": ".py",
   "mimetype": "text/x-python",
   "name": "python",
   "nbconvert_exporter": "python",
   "pygments_lexer": "ipython3",
   "version": "3.8.3"
  }
 },
 "nbformat": 4,
 "nbformat_minor": 4
}
