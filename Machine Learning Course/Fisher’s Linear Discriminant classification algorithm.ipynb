{
 "cells": [
  {
   "cell_type": "markdown",
   "metadata": {},
   "source": [
    "## Imports"
   ]
  },
  {
   "cell_type": "code",
   "execution_count": 1,
   "metadata": {},
   "outputs": [],
   "source": [
    "# ONLY USE THESE IMPORTS.\n",
    "import numpy as np\n",
    "import matplotlib.pyplot as plt"
   ]
  },
  {
   "cell_type": "markdown",
   "metadata": {},
   "source": [
    "## Read Data"
   ]
  },
  {
   "cell_type": "code",
   "execution_count": 2,
   "metadata": {},
   "outputs": [
    {
     "name": "stdout",
     "output_type": "stream",
     "text": [
      "(2400, 784) (200, 784)\n",
      "(2400,) (200,)\n"
     ]
    }
   ],
   "source": [
    "#import os\n",
    "#os.getcwd()\n",
    "# Read Training Images, Testing Images, Training Labels, Testing Labels\n",
    "# Use Assignment 0 for reference.\n",
    "train = np.array([plt.imread('Data/Train/'+str(i)+'.jpg').reshape(-1) for i in range (1,2401)])\n",
    "test = np.array([plt.imread('Data/Test/'+str(i)+'.jpg').reshape(-1) for i in range (1,201)])\n",
    "train_labels = np.loadtxt('Data/Train/Training Labels.txt')\n",
    "test_labels = np.loadtxt('Data/Test/Test Labels.txt')\n",
    "#print(train[5])\n",
    "#print(train[6])\n",
    "print(train.shape, test.shape)\n",
    "print(train_labels.shape,test_labels.shape)"
   ]
  },
  {
   "cell_type": "markdown",
   "metadata": {},
   "source": [
    "## Compute weight vectors"
   ]
  },
  {
   "cell_type": "markdown",
   "metadata": {},
   "source": [
    "### Zero class: (this is a trial cell for me, just to get the main points of the process for a one class only (zero) in order to be applied in a loop for all classes in the next cell. It is optional to run this cell)"
   ]
  },
  {
   "cell_type": "code",
   "execution_count": 3,
   "metadata": {},
   "outputs": [
    {
     "name": "stdout",
     "output_type": "stream",
     "text": [
      "(784,)\n",
      "(784,)\n",
      "(784, 784)\n",
      "(784, 784)\n"
     ]
    },
    {
     "data": {
      "text/plain": [
       "(784, 784)"
      ]
     },
     "execution_count": 3,
     "metadata": {},
     "output_type": "execute_result"
    }
   ],
   "source": [
    "#cols: pixels, rows:images\n",
    "#get zeros only:\n",
    "train_zero = train[:240]\n",
    "#get the transpose in order to calculate the mean of each pixel(to be rows) across all images (columns)\n",
    "train_zero = train_zero.T\n",
    "#train_zero\n",
    "#print(train[:,:5])\n",
    "#create image of length 784 each index, represents the mean of the correspoding pixel in all images\n",
    "mean_image = np.zeros(len(train_zero))\n",
    "#calculate mean:\n",
    "for index,i in enumerate(train_zero):\n",
    "    for j in i:\n",
    "        mean_image[index] += j\n",
    "    mean_image[index] /= len(i)\n",
    "    \n",
    "#The mean image (mean of each pixel in all images creating new mean image) of zero train data\n",
    "print(mean_image.shape)\n",
    "#return train_zero as it was\n",
    "train_zero = train_zero.T\n",
    "\n",
    "######################################################\n",
    "# the rest of images (zero images exclusive)\n",
    "train_zero_exc = train[240:]\n",
    "train_zero_exc = train_zero_exc.T\n",
    "mean_image_z_exc = np.zeros(len(train_zero_exc))\n",
    "#calculate mean:\n",
    "for index,i in enumerate(train_zero_exc):\n",
    "    for j in i:\n",
    "        mean_image_z_exc[index] += j\n",
    "    mean_image_z_exc[index] /= len(i)\n",
    "    \n",
    "#The mean image (mean of each pixel in all images creating new mean image) of zero exclusive train data\n",
    "#print(train_zero_exc.shape)\n",
    "print(mean_image_z_exc.shape)\n",
    "\n",
    "######################################################\n",
    "#### Calculate S_w (scatter matrix) for zero\n",
    "#print(train_zero.shape)\n",
    "S_w_zero = 0\n",
    "\n",
    "for i in train_zero:\n",
    "    S_w_zero += (i-mean_image).reshape(784,1) @ (i-mean_image).reshape(1,784)\n",
    "    \n",
    "print(S_w_zero.shape)\n",
    "\n",
    "#other classes:\n",
    "S_w_zero_exc = 0\n",
    "train_zero_exc = train_zero_exc.T\n",
    "for i in train_zero_exc:\n",
    "    S_w_zero_exc += (i-mean_image_z_exc).reshape(784,1) @ (i-mean_image_z_exc).reshape(1,784)\n",
    "    \n",
    "print(S_w_zero_exc.shape)\n",
    "\n",
    "######################################################\n",
    "#S_w inverse:\n",
    "S_w_zero_inv = np.linalg.pinv(S_w_zero+S_w_zero_exc)\n",
    "S_w_zero_inv.shape\n"
   ]
  },
  {
   "cell_type": "markdown",
   "metadata": {},
   "source": [
    "## weights of 10 classes:"
   ]
  },
  {
   "cell_type": "code",
   "execution_count": 4,
   "metadata": {},
   "outputs": [
    {
     "name": "stdout",
     "output_type": "stream",
     "text": [
      "Done\n"
     ]
    }
   ],
   "source": [
    "##index of which data will be considered as the current class\n",
    "start_index_inclusive = 0\n",
    "end_index_inclusive = 240\n",
    "##indexes of which data will be considered as not the current class\n",
    "end_index_exclusive_1 = 0\n",
    "start_index_exclusive_2 = 240\n",
    "total_weights = np.random.choice([-1, 0, 1], size=(784,1))\n",
    "w0=w1=w2=w3=w4=w5=w6=w7=w8=w9 = 0\n",
    "midway0=midway1=midway2=midway3=midway4=midway5=midway6=midway7=midway8=midway9 = 0\n",
    "\n",
    "for counter in range(0,10):\n",
    "    train_inclusive = train[start_index_inclusive:end_index_inclusive]\n",
    "    train_inclusive = train_inclusive.T\n",
    "    mean_image = np.zeros(len(train_inclusive))\n",
    "    #calculate mean:\n",
    "    for index,i in enumerate(train_inclusive):\n",
    "        for j in i:\n",
    "            mean_image[index] += j\n",
    "        mean_image[index] /= len(i)\n",
    "    #print(mean_image.shape)\n",
    "    train_inclusive = train_inclusive.T\n",
    "\n",
    "    # the rest of images (one images exclusive)\n",
    "    train_exclusive = np.concatenate((train[:end_index_exclusive_1], train[start_index_exclusive_2:]), axis=0)\n",
    "    train_exclusive = train_exclusive.T\n",
    "    mean_image_exc = np.zeros(len(train_exclusive))\n",
    "    #calculate mean:\n",
    "    for index,i in enumerate(train_exclusive):\n",
    "        for j in i:\n",
    "            mean_image_exc[index] += j\n",
    "        mean_image_exc[index] /= len(i)\n",
    "    #print(mean_image_exc.shape)\n",
    "\n",
    "\n",
    "    ##S_w:\n",
    "    S_w_inc = 0\n",
    "    for i in train_inclusive:\n",
    "        S_w_inc += (i-mean_image).reshape(784,1) @ (i-mean_image).reshape(1,784)\n",
    "    #print(S_w_inc.shape)\n",
    "\n",
    "    #other classes:\n",
    "    S_w_exc = 0\n",
    "    train_exclusive = train_exclusive.T\n",
    "    for i in train_exclusive:\n",
    "        S_w_exc += (i-mean_image_exc).reshape(784,1) @ (i-mean_image_exc).reshape(1,784)\n",
    "    #print(S_w_exc.shape)\n",
    "\n",
    "    #####################################\n",
    "    #S_w inverse:\n",
    "    S_w_inv = np.linalg.pinv(S_w_inc+S_w_exc)\n",
    "    S_w_inv.shape\n",
    "    \n",
    "    #weight of class:\n",
    "    w = S_w_inv @ (mean_image - mean_image_exc).reshape(784,1)\n",
    "    midway = (mean_image + mean_image_exc)/2\n",
    "    if counter == 0:\n",
    "        w0 = w\n",
    "        midway0 = midway\n",
    "    elif counter == 1:\n",
    "        w1 = w\n",
    "        midway1 = midway\n",
    "        ###################\n",
    "    elif counter == 2:\n",
    "        w2 = w\n",
    "        midway2 = midway\n",
    "        ################\n",
    "    elif counter == 3:\n",
    "        w3 = w\n",
    "        midway3 = midway\n",
    "        #############\n",
    "    elif counter == 4:\n",
    "        w4 = w\n",
    "        midway4 = midway\n",
    "        ##########\n",
    "    elif counter == 5:\n",
    "        w5 = w\n",
    "        midway5 = midway\n",
    "        #######\n",
    "    elif counter == 6:\n",
    "        w6 = w\n",
    "        midway6 = midway\n",
    "        #####\n",
    "    elif counter == 7:\n",
    "        w7 = w\n",
    "        midway7 = midway\n",
    "        ####\n",
    "    elif counter == 8:\n",
    "        w8 = w\n",
    "        midway8 = midway\n",
    "        ##\n",
    "    elif counter == 9:\n",
    "        w9 = w\n",
    "        midway9 = midway\n",
    "    #np.concatenate((total_weights, w), axis=0)\n",
    "    #print(w)\n",
    "    \n",
    "    ##update indecies for next iteration class:\n",
    "    start_index_inclusive += 240\n",
    "    end_index_inclusive += 240\n",
    "    end_index_exclusive_1 = start_index_exclusive_2\n",
    "    start_index_exclusive_2 += 240\n",
    "    \n",
    "#print(w0)\n",
    "print(\"Done\")"
   ]
  },
  {
   "cell_type": "code",
   "execution_count": 5,
   "metadata": {},
   "outputs": [
    {
     "name": "stdout",
     "output_type": "stream",
     "text": [
      "correct       incorrect\n",
      "[0.01241118] [-0.00449501]\n",
      "[0.01432001] [-0.00598026]\n",
      "[0.00678768] [-0.00477583]\n"
     ]
    }
   ],
   "source": [
    "#Optional run (Checking scores):checking the weights results with one correct test image and other incorrect image:\n",
    "print('correct', '      incorrect')\n",
    "print(test[1] @ w0, test[21] @ w0)\n",
    "\n",
    "print(test[25] @ w1, test[1] @ w1)\n",
    "\n",
    "print(test[105] @ w5, test[85] @ w5)\n",
    "\n",
    "#print(w0.reshape(1,784))\n",
    "#print(w0)\n",
    "#print(test[0].shape, w0.shape)"
   ]
  },
  {
   "cell_type": "code",
   "execution_count": 6,
   "metadata": {},
   "outputs": [
    {
     "data": {
      "text/plain": [
       "(784, 10)"
      ]
     },
     "execution_count": 6,
     "metadata": {},
     "output_type": "execute_result"
    }
   ],
   "source": [
    "w = w0\n",
    "#print(w0[-1])\n",
    "#print(w1[-1])\n",
    "#print(w0.shape)\n",
    "w = np.concatenate((w,w1,w2,w3,w4,w5,w6,w7,w8,w9),axis=1)\n",
    "w.shape"
   ]
  },
  {
   "cell_type": "markdown",
   "metadata": {},
   "source": [
    "## Compute confusion matrix"
   ]
  },
  {
   "cell_type": "code",
   "execution_count": 7,
   "metadata": {},
   "outputs": [
    {
     "data": {
      "text/plain": [
       "array([[19.,  0.,  0.,  0.,  0.,  0.,  1.,  0.,  0.,  0.],\n",
       "       [ 0., 20.,  0.,  0.,  0.,  0.,  0.,  0.,  0.,  0.],\n",
       "       [ 0.,  2., 12.,  2.,  2.,  1.,  0.,  0.,  1.,  0.],\n",
       "       [ 0.,  0.,  0., 18.,  0.,  0.,  0.,  0.,  2.,  0.],\n",
       "       [ 0.,  0.,  0.,  1., 10.,  1.,  3.,  0.,  3.,  2.],\n",
       "       [ 0.,  0.,  0.,  2.,  0., 11.,  1.,  0.,  4.,  2.],\n",
       "       [ 0.,  0.,  0.,  0.,  0.,  0., 20.,  0.,  0.,  0.],\n",
       "       [ 0.,  0.,  1.,  1.,  0.,  0.,  0., 16.,  0.,  2.],\n",
       "       [ 0.,  0.,  0.,  1.,  0.,  1.,  0.,  0., 18.,  0.],\n",
       "       [ 1.,  0.,  0.,  3.,  1.,  0.,  0.,  5.,  0., 10.]])"
      ]
     },
     "execution_count": 7,
     "metadata": {},
     "output_type": "execute_result"
    }
   ],
   "source": [
    "# Please return a variable named confusion_matrix so the next cell would work.\n",
    "results = test @ w\n",
    "confusion_matrix = np.zeros((10,10))\n",
    "start_index = 0\n",
    "end_index = 20\n",
    "for i in range(10):\n",
    "    current_results = results[start_index:end_index]\n",
    "\n",
    "    for image_results in current_results:\n",
    "        index_of_max = np.argmax(image_results, axis=0)\n",
    "        confusion_matrix[i][index_of_max] += 1\n",
    "    start_index += 20\n",
    "    end_index += 20\n",
    "confusion_matrix"
   ]
  },
  {
   "cell_type": "markdown",
   "metadata": {},
   "source": [
    "## Plot confusion matrix and print accuracy"
   ]
  },
  {
   "cell_type": "code",
   "execution_count": 8,
   "metadata": {},
   "outputs": [
    {
     "name": "stdout",
     "output_type": "stream",
     "text": [
      "Overall accuracy:  0.77\n"
     ]
    },
    {
     "data": {
      "image/png": "[encoded data removed]",
      "text/plain": [
       "<Figure size 720x720 with 1 Axes>"
      ]
     },
     "metadata": {
      "needs_background": "light"
     },
     "output_type": "display_data"
    }
   ],
   "source": [
    "# Plot Confusion Matrix\n",
    "plt.rc('figure', figsize=[20,10])\n",
    "plt.matshow(confusion_matrix,cmap='Blues')\n",
    "for i in range(0,confusion_matrix.shape[0]):\n",
    "    for j in range(0,confusion_matrix.shape[1]):\n",
    "        plt.annotate(confusion_matrix[i,j],(j,i))\n",
    "\n",
    "# Calculate Accuracy\n",
    "print(\"Overall accuracy: \",(np.sum(np.diag(confusion_matrix)))/test.shape[0])"
   ]
  },
  {
   "cell_type": "markdown",
   "metadata": {},
   "source": [
    "## Compute bias node for each classifier"
   ]
  },
  {
   "cell_type": "code",
   "execution_count": 15,
   "metadata": {},
   "outputs": [
    {
     "data": {
      "text/plain": [
       "array([-0.00619621])"
      ]
     },
     "execution_count": 15,
     "metadata": {},
     "output_type": "execute_result"
    }
   ],
   "source": [
    "w_node0 = -1 * (w0.T @ midway0)\n",
    "w_node1 = -1 * (w1.T @ midway1)\n",
    "w_node2 = -1 * (w2.T @ midway2)\n",
    "w_node3 = -1 * (w3.T @ midway3)\n",
    "w_node4 = -1 * (w4.T @ midway4)\n",
    "w_node5 = -1 * (w5.T @ midway5)\n",
    "w_node6 = -1 * (w6.T @ midway6)\n",
    "w_node7 = -1 * (w7.T @ midway7)\n",
    "w_node8 = -1 * (w8.T @ midway8)\n",
    "w_node9 = -1 * (w9.T @ midway9)\n",
    "w_node0"
   ]
  },
  {
   "cell_type": "markdown",
   "metadata": {},
   "source": [
    "## Compute confusion matrix"
   ]
  },
  {
   "cell_type": "code",
   "execution_count": 13,
   "metadata": {},
   "outputs": [
    {
     "data": {
      "text/plain": [
       "array([[19.,  0.,  0.,  0.,  0.,  0.,  1.,  0.,  0.,  0.],\n",
       "       [ 0., 20.,  0.,  0.,  0.,  0.,  0.,  0.,  0.,  0.],\n",
       "       [ 1.,  3., 11.,  2.,  2.,  1.,  0.,  0.,  0.,  0.],\n",
       "       [ 0.,  0.,  0., 17.,  0.,  1.,  0.,  0.,  2.,  0.],\n",
       "       [ 0.,  0.,  0.,  0., 17.,  1.,  0.,  0.,  1.,  1.],\n",
       "       [ 0.,  0.,  0.,  1.,  0., 14.,  1.,  0.,  2.,  2.],\n",
       "       [ 0.,  0.,  0.,  0.,  0.,  0., 20.,  0.,  0.,  0.],\n",
       "       [ 0.,  0.,  1.,  1.,  0.,  0.,  0., 15.,  0.,  3.],\n",
       "       [ 0.,  0.,  1.,  0.,  0.,  3.,  0.,  0., 15.,  1.],\n",
       "       [ 1.,  0.,  0.,  1.,  1.,  1.,  0.,  3.,  0., 13.]])"
      ]
     },
     "execution_count": 13,
     "metadata": {},
     "output_type": "execute_result"
    }
   ],
   "source": [
    "# Please return a variable named confusion_matrix so the next cell would work.\n",
    "results = test @ w\n",
    "#print(results.shape)\n",
    "summation_class_zero = np.sum(results[:20], axis = 0)    #shape is (1*10)\n",
    "for i in results:\n",
    "    for j in range(10):\n",
    "        if j == 0:\n",
    "            i[j] += w_node0\n",
    "        elif j == 1:\n",
    "            i[j] += w_node1\n",
    "        elif j == 2:\n",
    "            i[j] += w_node2\n",
    "        elif j == 3:\n",
    "            i[j] += w_node3\n",
    "        elif j == 4:\n",
    "            i[j] += w_node4\n",
    "        elif j == 5:\n",
    "            i[j] += w_node5\n",
    "        elif j == 6:\n",
    "            i[j] += w_node6\n",
    "        elif j == 7:\n",
    "            i[j] += w_node7\n",
    "        elif j == 8:\n",
    "            i[j] += w_node8\n",
    "        elif j == 9:\n",
    "            i[j] += w_node9\n",
    "\n",
    "#counting:\n",
    "confusion_matrix = np.zeros((10,10))\n",
    "start_index = 0\n",
    "end_index = 20\n",
    "for i in range(10):\n",
    "    current_results = results[start_index:end_index]\n",
    "\n",
    "    for image_results in current_results:\n",
    "        index_of_max = np.argmax(image_results, axis=0)\n",
    "        confusion_matrix[i][index_of_max] += 1\n",
    "    start_index += 20\n",
    "    end_index += 20\n",
    "confusion_matrix"
   ]
  },
  {
   "cell_type": "markdown",
   "metadata": {},
   "source": [
    "## Plot confusion matrix and print accuracy"
   ]
  },
  {
   "cell_type": "code",
   "execution_count": 14,
   "metadata": {
    "scrolled": true
   },
   "outputs": [
    {
     "name": "stdout",
     "output_type": "stream",
     "text": [
      "Overall accuracy:  0.805\n"
     ]
    },
    {
     "data": {
      "image/png": "[encoded data removed]",
      "text/plain": [
       "<Figure size 720x720 with 1 Axes>"
      ]
     },
     "metadata": {
      "needs_background": "light"
     },
     "output_type": "display_data"
    }
   ],
   "source": [
    "# Plot Confusion Matrix\n",
    "plt.rc('figure', figsize=[20,10])\n",
    "plt.matshow(confusion_matrix,cmap='Blues')\n",
    "for i in range(0,confusion_matrix.shape[0]):\n",
    "    for j in range(0,confusion_matrix.shape[1]):\n",
    "        plt.annotate(confusion_matrix[i,j],(j,i))\n",
    "        \n",
    "# Calculate Accuracy\n",
    "print(\"Overall accuracy: \",(np.sum(np.diag(confusion_matrix)))/test.shape[0])"
   ]
  },
  {
   "cell_type": "markdown",
   "metadata": {},
   "source": [
    "###                                                      Thank You :D"
   ]
  }
 ],
 "metadata": {
  "kernelspec": {
   "display_name": "Python 3",
   "language": "python",
   "name": "python3"
  },
  "language_info": {
   "codemirror_mode": {
    "name": "ipython",
    "version": 3
   },
   "file_extension": ".py",
   "mimetype": "text/x-python",
   "name": "python",
   "nbconvert_exporter": "python",
   "pygments_lexer": "ipython3",
   "version": "3.8.3"
  }
 },
 "nbformat": 4,
 "nbformat_minor": 4
}
